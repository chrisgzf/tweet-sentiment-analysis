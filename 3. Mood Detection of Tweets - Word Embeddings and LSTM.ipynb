{
 "cells": [
  {
   "cell_type": "markdown",
   "metadata": {},
   "source": [
    "# 3. Mood Detection of Tweets - Word Embeddings and LSTM\n",
    "\n",
    "Now that we have our cleaned dataset, we will now continue to train a neural network to classify a tweet's mood."
   ]
  },
  {
   "cell_type": "markdown",
   "metadata": {},
   "source": [
    "## Testing for CUDA-enabled TF with GPU Support\n",
    "\n",
    "**What this means:**\n",
    "Deep Learning requires a lot of matrix calculations and your CPU is not really meant for that sort of task. However, graphics cards (the hardware that your computer uses to make games run well) are able to perform these sort of tasks very well, so we need to check if the Jupyter Notebook has access to your (Nvidia) GPU, in order to train the model much more efficiently."
   ]
  },
  {
   "cell_type": "code",
   "execution_count": 1,
   "metadata": {},
   "outputs": [
    {
     "name": "stdout",
     "output_type": "stream",
     "text": [
      "Default GPU Device: /device:GPU:0\n"
     ]
    }
   ],
   "source": [
    "import tensorflow as tf\n",
    "if tf.test.gpu_device_name():\n",
    "    print('Default GPU Device: {}'.format(tf.test.gpu_device_name()))\n",
    "else:\n",
    "    print(\"Please install GPU version of TF\")"
   ]
  },
  {
   "cell_type": "code",
   "execution_count": 2,
   "metadata": {},
   "outputs": [
    {
     "name": "stdout",
     "output_type": "stream",
     "text": [
      "True\n",
      "2.2.4-tf\n",
      "1.13.1\n"
     ]
    }
   ],
   "source": [
    "print(tf.test.is_built_with_cuda())\n",
    "print(tf.keras.__version__)\n",
    "print(tf.__version__)"
   ]
  },
  {
   "cell_type": "markdown",
   "metadata": {},
   "source": [
    "## Processing our mood tweets dataset\n",
    "\n",
    "Dataset can also be accessed at: [future Kaggle link for my dataset] \n"
   ]
  },
  {
   "cell_type": "markdown",
   "metadata": {},
   "source": [
    "### Reading the CSV dataset with pandas"
   ]
  },
  {
   "cell_type": "code",
   "execution_count": 3,
   "metadata": {},
   "outputs": [
    {
     "data": {
      "text/html": [
       "<div>\n",
       "<style scoped>\n",
       "    .dataframe tbody tr th:only-of-type {\n",
       "        vertical-align: middle;\n",
       "    }\n",
       "\n",
       "    .dataframe tbody tr th {\n",
       "        vertical-align: top;\n",
       "    }\n",
       "\n",
       "    .dataframe thead th {\n",
       "        text-align: right;\n",
       "    }\n",
       "</style>\n",
       "<table border=\"1\" class=\"dataframe\">\n",
       "  <thead>\n",
       "    <tr style=\"text-align: right;\">\n",
       "      <th></th>\n",
       "      <th>class</th>\n",
       "      <th>tweet</th>\n",
       "    </tr>\n",
       "  </thead>\n",
       "  <tbody>\n",
       "    <tr>\n",
       "      <th>0</th>\n",
       "      <td>suicidal</td>\n",
       "      <td>\"He was lost &amp; scared\" says a Newport woman ab...</td>\n",
       "    </tr>\n",
       "    <tr>\n",
       "      <th>1</th>\n",
       "      <td>suicidal</td>\n",
       "      <td>@TheDumbMedico Ameen. Or ye suicide wali bat a...</td>\n",
       "    </tr>\n",
       "    <tr>\n",
       "      <th>2</th>\n",
       "      <td>suicidal</td>\n",
       "      <td>You showed the leak in @HouseofCommons today @...</td>\n",
       "    </tr>\n",
       "    <tr>\n",
       "      <th>3</th>\n",
       "      <td>suicidal</td>\n",
       "      <td>The number in my bio is for a Suicide hotline ...</td>\n",
       "    </tr>\n",
       "    <tr>\n",
       "      <th>4</th>\n",
       "      <td>suicidal</td>\n",
       "      <td>cw: suicidal ideation it's unsurprisingly hard...</td>\n",
       "    </tr>\n",
       "  </tbody>\n",
       "</table>\n",
       "</div>"
      ],
      "text/plain": [
       "      class                                              tweet\n",
       "0  suicidal  \"He was lost & scared\" says a Newport woman ab...\n",
       "1  suicidal  @TheDumbMedico Ameen. Or ye suicide wali bat a...\n",
       "2  suicidal  You showed the leak in @HouseofCommons today @...\n",
       "3  suicidal  The number in my bio is for a Suicide hotline ...\n",
       "4  suicidal  cw: suicidal ideation it's unsurprisingly hard..."
      ]
     },
     "execution_count": 3,
     "metadata": {},
     "output_type": "execute_result"
    }
   ],
   "source": [
    "import pandas as pd\n",
    "\n",
    "df = pd.read_csv(\"datasets/mood_tweets.csv\")\n",
    "df.drop(df.columns[0], inplace=True, axis=1)\n",
    "df[\"tweet\"] = df[\"tweet\"].astype(str)\n",
    "df.head()"
   ]
  },
  {
   "cell_type": "code",
   "execution_count": 4,
   "metadata": {},
   "outputs": [
    {
     "data": {
      "text/html": [
       "<div>\n",
       "<style scoped>\n",
       "    .dataframe tbody tr th:only-of-type {\n",
       "        vertical-align: middle;\n",
       "    }\n",
       "\n",
       "    .dataframe tbody tr th {\n",
       "        vertical-align: top;\n",
       "    }\n",
       "\n",
       "    .dataframe thead th {\n",
       "        text-align: right;\n",
       "    }\n",
       "</style>\n",
       "<table border=\"1\" class=\"dataframe\">\n",
       "  <thead>\n",
       "    <tr style=\"text-align: right;\">\n",
       "      <th></th>\n",
       "      <th>class</th>\n",
       "      <th>tweet</th>\n",
       "    </tr>\n",
       "  </thead>\n",
       "  <tbody>\n",
       "    <tr>\n",
       "      <th>count</th>\n",
       "      <td>25758</td>\n",
       "      <td>25758</td>\n",
       "    </tr>\n",
       "    <tr>\n",
       "      <th>unique</th>\n",
       "      <td>6</td>\n",
       "      <td>25758</td>\n",
       "    </tr>\n",
       "    <tr>\n",
       "      <th>top</th>\n",
       "      <td>cheerful</td>\n",
       "      <td>@JackieDP @LandSheriffs Have you done your acc...</td>\n",
       "    </tr>\n",
       "    <tr>\n",
       "      <th>freq</th>\n",
       "      <td>5885</td>\n",
       "      <td>1</td>\n",
       "    </tr>\n",
       "  </tbody>\n",
       "</table>\n",
       "</div>"
      ],
      "text/plain": [
       "           class                                              tweet\n",
       "count      25758                                              25758\n",
       "unique         6                                              25758\n",
       "top     cheerful  @JackieDP @LandSheriffs Have you done your acc...\n",
       "freq        5885                                                  1"
      ]
     },
     "execution_count": 4,
     "metadata": {},
     "output_type": "execute_result"
    }
   ],
   "source": [
    "df.describe()"
   ]
  },
  {
   "cell_type": "markdown",
   "metadata": {},
   "source": [
    "Now let's analyse how the dataset is lain out and roughly how the data looks like"
   ]
  },
  {
   "cell_type": "code",
   "execution_count": 5,
   "metadata": {},
   "outputs": [
    {
     "data": {
      "text/html": [
       "<div>\n",
       "<style scoped>\n",
       "    .dataframe tbody tr th:only-of-type {\n",
       "        vertical-align: middle;\n",
       "    }\n",
       "\n",
       "    .dataframe tbody tr th {\n",
       "        vertical-align: top;\n",
       "    }\n",
       "\n",
       "    .dataframe thead th {\n",
       "        text-align: right;\n",
       "    }\n",
       "</style>\n",
       "<table border=\"1\" class=\"dataframe\">\n",
       "  <thead>\n",
       "    <tr style=\"text-align: right;\">\n",
       "      <th></th>\n",
       "      <th>class</th>\n",
       "      <th>tweet</th>\n",
       "    </tr>\n",
       "  </thead>\n",
       "  <tbody>\n",
       "    <tr>\n",
       "      <th>18115</th>\n",
       "      <td>cheerful</td>\n",
       "      <td>You know what's awesome? After a month of doing yoga I'm getting most of my range of motion and flexibility back in the knee that I blew out playing rugby in college &amp; university. I honestly wish I had started this years ago.</td>\n",
       "    </tr>\n",
       "    <tr>\n",
       "      <th>4418</th>\n",
       "      <td>cheerful</td>\n",
       "      <td>Just rolled over 10k awesome miles in @corbett and my @Tesla 3. @elonmusk one suggestion: can I plz haz headlights on by default? Every time I drive during the day they start off and I think they improve visibility for other drivers as I pass them.</td>\n",
       "    </tr>\n",
       "    <tr>\n",
       "      <th>4417</th>\n",
       "      <td>cheerful</td>\n",
       "      <td>Glad to see that Craig continues to keep the orientalism industry alive</td>\n",
       "    </tr>\n",
       "    <tr>\n",
       "      <th>4416</th>\n",
       "      <td>cheerful</td>\n",
       "      <td>@_Kazma8 No problem dude. Glad she was found</td>\n",
       "    </tr>\n",
       "    <tr>\n",
       "      <th>4415</th>\n",
       "      <td>cheerful</td>\n",
       "      <td>Sign up for this awesome contest!</td>\n",
       "    </tr>\n",
       "  </tbody>\n",
       "</table>\n",
       "</div>"
      ],
      "text/plain": [
       "          class  \\\n",
       "18115  cheerful   \n",
       "4418   cheerful   \n",
       "4417   cheerful   \n",
       "4416   cheerful   \n",
       "4415   cheerful   \n",
       "\n",
       "                                                                                                                                                                                                                                                          tweet  \n",
       "18115  You know what's awesome? After a month of doing yoga I'm getting most of my range of motion and flexibility back in the knee that I blew out playing rugby in college & university. I honestly wish I had started this years ago.                         \n",
       "4418   Just rolled over 10k awesome miles in @corbett and my @Tesla 3. @elonmusk one suggestion: can I plz haz headlights on by default? Every time I drive during the day they start off and I think they improve visibility for other drivers as I pass them.  \n",
       "4417   Glad to see that Craig continues to keep the orientalism industry alive                                                                                                                                                                                   \n",
       "4416   @_Kazma8 No problem dude. Glad she was found                                                                                                                                                                                                              \n",
       "4415   Sign up for this awesome contest!                                                                                                                                                                                                                         "
      ]
     },
     "metadata": {},
     "output_type": "display_data"
    },
    {
     "data": {
      "text/html": [
       "<div>\n",
       "<style scoped>\n",
       "    .dataframe tbody tr th:only-of-type {\n",
       "        vertical-align: middle;\n",
       "    }\n",
       "\n",
       "    .dataframe tbody tr th {\n",
       "        vertical-align: top;\n",
       "    }\n",
       "\n",
       "    .dataframe thead th {\n",
       "        text-align: right;\n",
       "    }\n",
       "</style>\n",
       "<table border=\"1\" class=\"dataframe\">\n",
       "  <thead>\n",
       "    <tr style=\"text-align: right;\">\n",
       "      <th></th>\n",
       "      <th>class</th>\n",
       "      <th>tweet</th>\n",
       "    </tr>\n",
       "  </thead>\n",
       "  <tbody>\n",
       "    <tr>\n",
       "      <th>14794</th>\n",
       "      <td>suicidal</td>\n",
       "      <td>But why does my client commit suicide if I press the ranked ladder tab?</td>\n",
       "    </tr>\n",
       "    <tr>\n",
       "      <th>14793</th>\n",
       "      <td>suicidal</td>\n",
       "      <td>Ngl I don’t think I can do this education thing anymore. I’m moving to Naij this summer to sell pure water. I can’t come and kill myself abeg</td>\n",
       "    </tr>\n",
       "    <tr>\n",
       "      <th>14792</th>\n",
       "      <td>suicidal</td>\n",
       "      <td>The Island's suicide rate likely to rise following change in law.Read the next part in a special investigation into suicide on the Isle of Wight by @megbaynesLDR .#isleofwight</td>\n",
       "    </tr>\n",
       "    <tr>\n",
       "      <th>8106</th>\n",
       "      <td>suicidal</td>\n",
       "      <td>@liangweihan4 my dad fucked up and married a white woman and had me. How do I keep the \"species\" strong? Do I date white women and marry out the the Asian or the other way around? Or should I just kill myself?</td>\n",
       "    </tr>\n",
       "    <tr>\n",
       "      <th>0</th>\n",
       "      <td>suicidal</td>\n",
       "      <td>\"He was lost &amp; scared\" says a Newport woman about a 14y/o boy on the street today. Teen tells police he's Timmothy Pitzen. Pitzen disappeared in 2011 after being taken by his mother. In her suicide note she wrote he was safe but would never be found. @Local12 #TimmothyPitzen</td>\n",
       "    </tr>\n",
       "  </tbody>\n",
       "</table>\n",
       "</div>"
      ],
      "text/plain": [
       "          class  \\\n",
       "14794  suicidal   \n",
       "14793  suicidal   \n",
       "14792  suicidal   \n",
       "8106   suicidal   \n",
       "0      suicidal   \n",
       "\n",
       "                                                                                                                                                                                                                                                                                      tweet  \n",
       "14794  But why does my client commit suicide if I press the ranked ladder tab?                                                                                                                                                                                                               \n",
       "14793  Ngl I don’t think I can do this education thing anymore. I’m moving to Naij this summer to sell pure water. I can’t come and kill myself abeg                                                                                                                                         \n",
       "14792  The Island's suicide rate likely to rise following change in law.Read the next part in a special investigation into suicide on the Isle of Wight by @megbaynesLDR .#isleofwight                                                                                                       \n",
       "8106   @liangweihan4 my dad fucked up and married a white woman and had me. How do I keep the \"species\" strong? Do I date white women and marry out the the Asian or the other way around? Or should I just kill myself?                                                                     \n",
       "0      \"He was lost & scared\" says a Newport woman about a 14y/o boy on the street today. Teen tells police he's Timmothy Pitzen. Pitzen disappeared in 2011 after being taken by his mother. In her suicide note she wrote he was safe but would never be found. @Local12 #TimmothyPitzen   "
      ]
     },
     "metadata": {},
     "output_type": "display_data"
    },
    {
     "data": {
      "text/plain": [
       "array(['cheerful', 'depressed', 'happy', 'overjoyed', 'sad', 'suicidal'],\n",
       "      dtype=object)"
      ]
     },
     "execution_count": 5,
     "metadata": {},
     "output_type": "execute_result"
    }
   ],
   "source": [
    "pd.set_option('display.max_colwidth', -1) # option to be set so that the tweet's texts won't be truncated\n",
    "df.sort_values(\"class\", inplace=True)\n",
    "display(df.head())\n",
    "display(df.tail())\n",
    "df[\"class\"].unique()"
   ]
  },
  {
   "cell_type": "markdown",
   "metadata": {},
   "source": [
    "We will now change the classes into a numerical representation to make it easier for deep learning."
   ]
  },
  {
   "cell_type": "code",
   "execution_count": 6,
   "metadata": {},
   "outputs": [
    {
     "data": {
      "text/html": [
       "<div>\n",
       "<style scoped>\n",
       "    .dataframe tbody tr th:only-of-type {\n",
       "        vertical-align: middle;\n",
       "    }\n",
       "\n",
       "    .dataframe tbody tr th {\n",
       "        vertical-align: top;\n",
       "    }\n",
       "\n",
       "    .dataframe thead th {\n",
       "        text-align: right;\n",
       "    }\n",
       "</style>\n",
       "<table border=\"1\" class=\"dataframe\">\n",
       "  <thead>\n",
       "    <tr style=\"text-align: right;\">\n",
       "      <th></th>\n",
       "      <th>class</th>\n",
       "      <th>tweet</th>\n",
       "    </tr>\n",
       "  </thead>\n",
       "  <tbody>\n",
       "    <tr>\n",
       "      <th>18115</th>\n",
       "      <td>4</td>\n",
       "      <td>You know what's awesome? After a month of doing yoga I'm getting most of my range of motion and flexibility back in the knee that I blew out playing rugby in college &amp; university. I honestly wish I had started this years ago.</td>\n",
       "    </tr>\n",
       "    <tr>\n",
       "      <th>4418</th>\n",
       "      <td>4</td>\n",
       "      <td>Just rolled over 10k awesome miles in @corbett and my @Tesla 3. @elonmusk one suggestion: can I plz haz headlights on by default? Every time I drive during the day they start off and I think they improve visibility for other drivers as I pass them.</td>\n",
       "    </tr>\n",
       "    <tr>\n",
       "      <th>4417</th>\n",
       "      <td>4</td>\n",
       "      <td>Glad to see that Craig continues to keep the orientalism industry alive</td>\n",
       "    </tr>\n",
       "    <tr>\n",
       "      <th>4416</th>\n",
       "      <td>4</td>\n",
       "      <td>@_Kazma8 No problem dude. Glad she was found</td>\n",
       "    </tr>\n",
       "    <tr>\n",
       "      <th>4415</th>\n",
       "      <td>4</td>\n",
       "      <td>Sign up for this awesome contest!</td>\n",
       "    </tr>\n",
       "  </tbody>\n",
       "</table>\n",
       "</div>"
      ],
      "text/plain": [
       "      class  \\\n",
       "18115  4      \n",
       "4418   4      \n",
       "4417   4      \n",
       "4416   4      \n",
       "4415   4      \n",
       "\n",
       "                                                                                                                                                                                                                                                          tweet  \n",
       "18115  You know what's awesome? After a month of doing yoga I'm getting most of my range of motion and flexibility back in the knee that I blew out playing rugby in college & university. I honestly wish I had started this years ago.                         \n",
       "4418   Just rolled over 10k awesome miles in @corbett and my @Tesla 3. @elonmusk one suggestion: can I plz haz headlights on by default? Every time I drive during the day they start off and I think they improve visibility for other drivers as I pass them.  \n",
       "4417   Glad to see that Craig continues to keep the orientalism industry alive                                                                                                                                                                                   \n",
       "4416   @_Kazma8 No problem dude. Glad she was found                                                                                                                                                                                                              \n",
       "4415   Sign up for this awesome contest!                                                                                                                                                                                                                         "
      ]
     },
     "metadata": {},
     "output_type": "display_data"
    },
    {
     "data": {
      "text/html": [
       "<div>\n",
       "<style scoped>\n",
       "    .dataframe tbody tr th:only-of-type {\n",
       "        vertical-align: middle;\n",
       "    }\n",
       "\n",
       "    .dataframe tbody tr th {\n",
       "        vertical-align: top;\n",
       "    }\n",
       "\n",
       "    .dataframe thead th {\n",
       "        text-align: right;\n",
       "    }\n",
       "</style>\n",
       "<table border=\"1\" class=\"dataframe\">\n",
       "  <thead>\n",
       "    <tr style=\"text-align: right;\">\n",
       "      <th></th>\n",
       "      <th>class</th>\n",
       "      <th>tweet</th>\n",
       "    </tr>\n",
       "  </thead>\n",
       "  <tbody>\n",
       "    <tr>\n",
       "      <th>14794</th>\n",
       "      <td>0</td>\n",
       "      <td>But why does my client commit suicide if I press the ranked ladder tab?</td>\n",
       "    </tr>\n",
       "    <tr>\n",
       "      <th>14793</th>\n",
       "      <td>0</td>\n",
       "      <td>Ngl I don’t think I can do this education thing anymore. I’m moving to Naij this summer to sell pure water. I can’t come and kill myself abeg</td>\n",
       "    </tr>\n",
       "    <tr>\n",
       "      <th>14792</th>\n",
       "      <td>0</td>\n",
       "      <td>The Island's suicide rate likely to rise following change in law.Read the next part in a special investigation into suicide on the Isle of Wight by @megbaynesLDR .#isleofwight</td>\n",
       "    </tr>\n",
       "    <tr>\n",
       "      <th>8106</th>\n",
       "      <td>0</td>\n",
       "      <td>@liangweihan4 my dad fucked up and married a white woman and had me. How do I keep the \"species\" strong? Do I date white women and marry out the the Asian or the other way around? Or should I just kill myself?</td>\n",
       "    </tr>\n",
       "    <tr>\n",
       "      <th>0</th>\n",
       "      <td>0</td>\n",
       "      <td>\"He was lost &amp; scared\" says a Newport woman about a 14y/o boy on the street today. Teen tells police he's Timmothy Pitzen. Pitzen disappeared in 2011 after being taken by his mother. In her suicide note she wrote he was safe but would never be found. @Local12 #TimmothyPitzen</td>\n",
       "    </tr>\n",
       "  </tbody>\n",
       "</table>\n",
       "</div>"
      ],
      "text/plain": [
       "      class  \\\n",
       "14794  0      \n",
       "14793  0      \n",
       "14792  0      \n",
       "8106   0      \n",
       "0      0      \n",
       "\n",
       "                                                                                                                                                                                                                                                                                      tweet  \n",
       "14794  But why does my client commit suicide if I press the ranked ladder tab?                                                                                                                                                                                                               \n",
       "14793  Ngl I don’t think I can do this education thing anymore. I’m moving to Naij this summer to sell pure water. I can’t come and kill myself abeg                                                                                                                                         \n",
       "14792  The Island's suicide rate likely to rise following change in law.Read the next part in a special investigation into suicide on the Isle of Wight by @megbaynesLDR .#isleofwight                                                                                                       \n",
       "8106   @liangweihan4 my dad fucked up and married a white woman and had me. How do I keep the \"species\" strong? Do I date white women and marry out the the Asian or the other way around? Or should I just kill myself?                                                                     \n",
       "0      \"He was lost & scared\" says a Newport woman about a 14y/o boy on the street today. Teen tells police he's Timmothy Pitzen. Pitzen disappeared in 2011 after being taken by his mother. In her suicide note she wrote he was safe but would never be found. @Local12 #TimmothyPitzen   "
      ]
     },
     "metadata": {},
     "output_type": "display_data"
    }
   ],
   "source": [
    "classes_index = {\n",
    "    0 : \"suicidal\",\n",
    "    1 : \"depressed\",\n",
    "    2 : \"sad\",\n",
    "    3 : \"happy\",\n",
    "    4 : \"cheerful\",\n",
    "    5 : \"overjoyed\",\n",
    "}\n",
    "\n",
    "for val, class_name in classes_index.items():\n",
    "    df.loc[(df[\"class\"] == class_name), \"class\"] = val\n",
    "\n",
    "display(df.head())\n",
    "display(df.tail())"
   ]
  },
  {
   "cell_type": "markdown",
   "metadata": {},
   "source": [
    "## Loading Glove word embeddings.\n",
    "\n",
    "Right now, we have our tweets in text form. In order for our neural network to take them in as inputs, they have to be numerical. Therefore, we will be performing 2 tasks:\n",
    "1. Tokenising the text\n",
    "2. Adding a second layer in the neural network to map the text to their respective word embeddings\n",
    "\n",
    "Word embeddings are vector representations of distinct words in a vector space of many dimensions (in this case we are using 100 dimensions). This gives every word a distinct vector, and we can perform some very interesting vector operations on them.\n",
    "\n",
    "A lot of the code here is referenced from: https://github.com/keras-team/keras/blob/master/examples/pretrained_word_embeddings.py\n",
    "\n",
    "Note: Please run the 2 cells below in a Linux environment / Google Colab so that the commands work properly. Windows might not have the proper binaries to perform these commands."
   ]
  },
  {
   "cell_type": "code",
   "execution_count": null,
   "metadata": {},
   "outputs": [],
   "source": [
    "!wget -qq http://nlp.stanford.edu/data/glove.6B.zip\n",
    "\n",
    "!unzip glove.6B.zip"
   ]
  },
  {
   "cell_type": "markdown",
   "metadata": {},
   "source": [
    "The Glove word embeddings should be downloaded and unzipped. Check the output of the cell below to see if they are reflected correctly."
   ]
  },
  {
   "cell_type": "code",
   "execution_count": 7,
   "metadata": {
    "scrolled": true
   },
   "outputs": [
    {
     "name": "stdout",
     "output_type": "stream",
     "text": [
      "'1. Proof of Concept - Sentiment Analysis on Airline Tweets.ipynb'\r\n",
      "'2. Creating Mood Tweets Dataset.ipynb'\r\n",
      "'3. Mood Detection of Tweets - Word Embeddings and LSTM.ipynb'\r\n",
      " api-keys\r\n",
      " best_weights.hdf5\r\n",
      " datasets\r\n",
      " glove.6B.100d.txt\r\n",
      " glove.6B.200d.txt\r\n",
      " glove.6B.300d.txt\r\n",
      " glove.6B.50d.txt\r\n",
      " glove.6B.zip\r\n",
      " LICENSE\r\n",
      " mood_detection_model.h5\r\n",
      " mood_tweets.xlsx\r\n",
      " my_api_keys.py\r\n",
      " my_api_keys_SAMPLE.py\r\n",
      " __pycache__\r\n",
      " README.md\r\n"
     ]
    }
   ],
   "source": [
    "!ls"
   ]
  },
  {
   "cell_type": "markdown",
   "metadata": {},
   "source": [
    "Create a new dictionary to map the words in the embeddings to their 100-dimension embedding vector"
   ]
  },
  {
   "cell_type": "code",
   "execution_count": 7,
   "metadata": {},
   "outputs": [
    {
     "name": "stdout",
     "output_type": "stream",
     "text": [
      "Found 400000 word vectors.\n"
     ]
    }
   ],
   "source": [
    "import os\n",
    "import numpy as np\n",
    "# NumPy is a very widely-used library in Python for mathematical operations.\n",
    "# It supports many complex mathematical functions and can work on large arrays and matrices.\n",
    "\n",
    "embeddings_index = {}\n",
    "with open(os.path.join('glove.6B.100d.txt')) as f:\n",
    "    for line in f:\n",
    "        values = line.split()\n",
    "        word = values[0]\n",
    "        coefs = np.asarray(values[1:], dtype='float32')\n",
    "        embeddings_index[word] = coefs\n",
    "\n",
    "print(\"Found {} word vectors.\".format(len(embeddings_index)))"
   ]
  },
  {
   "cell_type": "code",
   "execution_count": 8,
   "metadata": {},
   "outputs": [
    {
     "data": {
      "text/plain": [
       "array([-0.37058 , -0.67807 ,  0.68365 , -1.8257  ,  0.033376, -0.19271 ,\n",
       "        0.23817 ,  0.20734 , -0.59292 , -0.68866 ,  0.056996, -0.45526 ,\n",
       "        0.050337,  0.38388 ,  0.5716  , -0.58939 , -0.065345, -0.15682 ,\n",
       "       -0.71076 ,  0.80948 ,  0.28472 ,  0.33693 ,  0.16452 , -0.10708 ,\n",
       "        0.93074 ,  0.63066 ,  0.31136 , -0.47565 ,  0.26755 ,  0.43212 ,\n",
       "       -0.54809 ,  0.45665 , -0.13095 ,  0.41672 ,  0.07025 , -1.0302  ,\n",
       "       -0.21576 ,  0.34737 , -0.52304 ,  0.43099 , -0.39802 , -0.25244 ,\n",
       "        0.39093 ,  0.58856 , -1.1839  ,  0.31923 , -1.0152  , -0.32431 ,\n",
       "       -0.099747, -0.12774 ,  0.20104 ,  0.16763 , -0.59854 , -0.25134 ,\n",
       "        0.49871 , -2.4691  , -0.88555 , -0.14335 , -0.037509,  0.87851 ,\n",
       "        0.086941, -0.097006, -0.59662 ,  0.63888 ,  0.72839 , -0.87794 ,\n",
       "        0.71174 ,  1.1118  , -0.26572 ,  0.3617  , -0.43472 ,  0.17808 ,\n",
       "       -0.57865 , -0.20282 ,  0.3917  , -0.37085 , -0.37463 ,  0.024523,\n",
       "        0.017991, -0.43885 ,  0.093244, -0.019675,  0.20245 , -0.0862  ,\n",
       "       -0.30843 , -0.20882 , -0.15978 , -0.37059 , -0.3803  , -0.33614 ,\n",
       "        0.24756 , -0.06655 , -0.015687, -0.18252 , -0.70065 ,  0.29659 ,\n",
       "        0.077268, -0.016513, -0.027181, -0.13    ], dtype=float32)"
      ]
     },
     "execution_count": 8,
     "metadata": {},
     "output_type": "execute_result"
    }
   ],
   "source": [
    "# to see what word embeddings look like\n",
    "embeddings_index[\"chris\"]"
   ]
  },
  {
   "cell_type": "markdown",
   "metadata": {},
   "source": [
    "This array of numbers make up the representation of the word \"chris\" in 100d-space. This is beneficial as it gives every trained word a distinct vector representation, and we can calculate the cosine similarity between 2 different words to determine how similar / different the words are, in terms of contextual information."
   ]
  },
  {
   "cell_type": "markdown",
   "metadata": {},
   "source": [
    "## Processing them for TensorFlow\n",
    "\n",
    "TensorFlow (& Keras) is the library/framework which we will use to train our neural network.\n",
    "\n",
    "We will process our dataframe above into TF-ready numpy arrays."
   ]
  },
  {
   "cell_type": "code",
   "execution_count": 9,
   "metadata": {},
   "outputs": [],
   "source": [
    "import sys\n",
    "\n",
    "from tensorflow.keras.preprocessing.text import Tokenizer\n",
    "from tensorflow.keras.preprocessing.sequence import pad_sequences\n",
    "from tensorflow.keras.utils import to_categorical\n",
    "from tensorflow.keras.layers import Dense, Input, LSTM, Embedding, Bidirectional, Dropout\n",
    "from tensorflow.keras.models import Model\n",
    "from tensorflow.keras.initializers import Constant"
   ]
  },
  {
   "cell_type": "code",
   "execution_count": 10,
   "metadata": {},
   "outputs": [],
   "source": [
    "# Setting some parameters\n",
    "\n",
    "MAX_SEQUENCE_LENGTH = 40 # determines how many words of every tweet will be processed\n",
    "# if the tweet length is smaller than this, the tweet will be padded until it has a length equivalent to this\n",
    "\n",
    "MAX_NUM_WORDS = 70000 # how many unique words in the training text to be tokenised\n",
    "EMBEDDING_DIM = 100 # number of dimensions in the word embeddings\n",
    "TRAINING_SPLIT = 0.8 # proportion of data to be used to training"
   ]
  },
  {
   "cell_type": "code",
   "execution_count": 11,
   "metadata": {},
   "outputs": [],
   "source": [
    "# Converting the dataframe into lists\n",
    "\n",
    "texts = df[\"tweet\"].tolist()\n",
    "labels = df[\"class\"].tolist()"
   ]
  },
  {
   "cell_type": "markdown",
   "metadata": {},
   "source": [
    "## Tokenising the Tweets into a 2D integer tensor\n",
    "\n",
    "Tokenising tweets will break up the text into individual words, and replace them with a numeric representation.\n",
    "\n",
    "e.g. \n",
    "- \"I am a human\" > \"i\", \"am\", \"a\", \"human\" > 1, 2, 3, 4\n",
    "- \"I am a robot\" > \"i\", \"am\", \"a\", \"robot\" > 1, 2, 3, 5"
   ]
  },
  {
   "cell_type": "code",
   "execution_count": 12,
   "metadata": {},
   "outputs": [
    {
     "name": "stdout",
     "output_type": "stream",
     "text": [
      "67094 distinct words in original text\n"
     ]
    }
   ],
   "source": [
    "tokenizer = Tokenizer(num_words=MAX_NUM_WORDS)\n",
    "tokenizer.fit_on_texts(texts)\n",
    "sequences = tokenizer.texts_to_sequences(texts)\n",
    "word_index = tokenizer.word_index\n",
    "\n",
    "print(\"{} distinct words in original text\".format(len(word_index)))"
   ]
  },
  {
   "cell_type": "markdown",
   "metadata": {},
   "source": [
    "All our tensors have to be of the same length, so we need to set a maximum length, and if a certain tweet has fewer than the maximum length of words, it will be padded until it is the same size."
   ]
  },
  {
   "cell_type": "code",
   "execution_count": 13,
   "metadata": {
    "scrolled": true
   },
   "outputs": [
    {
     "data": {
      "text/plain": [
       "117"
      ]
     },
     "execution_count": 13,
     "metadata": {},
     "output_type": "execute_result"
    },
    {
     "data": {
      "image/png": "[encoded data removed]",
      "text/plain": [
       "<Figure size 432x288 with 1 Axes>"
      ]
     },
     "metadata": {
      "needs_background": "light"
     },
     "output_type": "display_data"
    }
   ],
   "source": [
    "import matplotlib.pyplot as plt\n",
    "%matplotlib inline\n",
    "seq_lengths = [len(x) for x in sequences]\n",
    "plt.plot(seq_lengths)\n",
    "max(seq_lengths)"
   ]
  },
  {
   "cell_type": "markdown",
   "metadata": {},
   "source": [
    "Wow, the longest tweet is 117 words long... I'm quite curious about what the tweet is about so let's see."
   ]
  },
  {
   "cell_type": "code",
   "execution_count": 14,
   "metadata": {},
   "outputs": [
    {
     "data": {
      "text/plain": [
       "\"@AmyWillRaceAmy1 @alphafemale777 @Paul_Vindici @ncanarchist @Trump_guilty @Nina82997364 @_Ourlittlesatan @iamamber7____ @JillGregory15 @huff_angie @Szyszk_e @itstimetoriseX @hotstreek420 @TuesdayTMoney @TheMJJDynasty @Marjala2 @jacarpb @zacmacme @KellyBu77326182 @Randomacc531 @John_Hamilton_C @WnJSupporter @RealMJFacts @krosodgo @leavingmyseIf @Joquin67208074 @CharlieCatlife @evelyne1370 @Hammertonhal @jak_jeremy @annettaaa @LilMissK111 @ml_roussea @ObserverReport @CherylDiamond18 @averyroseaxl @JpGoLuz @GRosario_pr77 @0pinion8d @_MJBeLike @finehats1 @I_am_DirtyHarry @AntonTerry85 @Michelleheald6 @betrayed_bitch @dash4442 @anthonyking1 @akaurer @Cougarchic I have genius 😉Just because I don't take sad music as concrete proof does not mean I didn't see it.The point was: The COURT already ruled and the man is guilty. And with all the whole that has been shot in it with all those lies. My guess is the appeal won't go far either.\""
      ]
     },
     "execution_count": 14,
     "metadata": {},
     "output_type": "execute_result"
    }
   ],
   "source": [
    "texts[np.argmax(seq_lengths)]"
   ]
  },
  {
   "cell_type": "markdown",
   "metadata": {},
   "source": [
    "Okay back to the task, as seen from the graph, the tweets vary quite a lot in length, and maxes out at 117. We will now pad all of them to 117."
   ]
  },
  {
   "cell_type": "code",
   "execution_count": 15,
   "metadata": {},
   "outputs": [],
   "source": [
    "MAX_SEQUENCE_LENGTH = max(seq_lengths)\n",
    "\n",
    "data = pad_sequences(sequences, maxlen=MAX_SEQUENCE_LENGTH)"
   ]
  },
  {
   "cell_type": "markdown",
   "metadata": {},
   "source": [
    "## Creating One Hot Encoding Labels"
   ]
  },
  {
   "cell_type": "code",
   "execution_count": 16,
   "metadata": {},
   "outputs": [
    {
     "name": "stdout",
     "output_type": "stream",
     "text": [
      "Shape of data tensor: (25758, 117)\n",
      "Shape of label tensor: (25758, 6)\n"
     ]
    }
   ],
   "source": [
    "labels = to_categorical(np.asarray(labels))\n",
    "print('Shape of data tensor:', data.shape)\n",
    "print('Shape of label tensor:', labels.shape)"
   ]
  },
  {
   "cell_type": "markdown",
   "metadata": {},
   "source": [
    "## Splitting the data into a train test split\n",
    "\n",
    "What this means is that we will allocate 80% of our cleaned up dataset for training the neural network. After every epoch (cycle) of training, the model will be \"examined\" against the other 20%, named the validation set, to see how well our model generalises (whether our model is 'memorising' its training set, which is undesirable)."
   ]
  },
  {
   "cell_type": "code",
   "execution_count": 17,
   "metadata": {},
   "outputs": [],
   "source": [
    "# we shuffle our sorted data, to make it random first\n",
    "indices = np.arange(data.shape[0])\n",
    "np.random.shuffle(indices)\n",
    "data = data[indices]\n",
    "labels = labels[indices]\n",
    "\n",
    "# before we begin to split them\n",
    "num_training_samples = int(TRAINING_SPLIT * data.shape[0])"
   ]
  },
  {
   "cell_type": "code",
   "execution_count": 18,
   "metadata": {},
   "outputs": [],
   "source": [
    "x_train = data[:num_training_samples]\n",
    "y_train = labels[:num_training_samples]\n",
    "x_val = data[num_training_samples:]\n",
    "y_val = labels[num_training_samples:]"
   ]
  },
  {
   "cell_type": "markdown",
   "metadata": {},
   "source": [
    "## Preparing Embedding Matrix"
   ]
  },
  {
   "cell_type": "code",
   "execution_count": 19,
   "metadata": {},
   "outputs": [],
   "source": [
    "num_words = min(MAX_NUM_WORDS, len(word_index)) + 1\n",
    "embedding_matrix = np.zeros((num_words, EMBEDDING_DIM))\n",
    "for word, i in word_index.items():\n",
    "    if i > MAX_NUM_WORDS:\n",
    "        continue\n",
    "    embedding_vector = embeddings_index.get(word)\n",
    "    if embedding_vector is not None:\n",
    "        # words not found in embedding index will be all-zeros.\n",
    "        embedding_matrix[i] = embedding_vector\n",
    "\n",
    "# load pre-trained word embeddings into an Embedding layer\n",
    "# note that we set trainable = False so as to keep the embeddings fixed\n",
    "embedding_layer = Embedding(num_words,\n",
    "                            EMBEDDING_DIM,\n",
    "                            embeddings_initializer=Constant(embedding_matrix),\n",
    "                            input_length=MAX_SEQUENCE_LENGTH,\n",
    "                            trainable=False)"
   ]
  },
  {
   "cell_type": "markdown",
   "metadata": {},
   "source": [
    "## Defining and creating our model"
   ]
  },
  {
   "cell_type": "code",
   "execution_count": 20,
   "metadata": {},
   "outputs": [
    {
     "name": "stdout",
     "output_type": "stream",
     "text": [
      "WARNING:tensorflow:From /opt/anaconda/lib/python3.7/site-packages/tensorflow/python/ops/resource_variable_ops.py:435: colocate_with (from tensorflow.python.framework.ops) is deprecated and will be removed in a future version.\n",
      "Instructions for updating:\n",
      "Colocations handled automatically by placer.\n",
      "WARNING:tensorflow:From /opt/anaconda/lib/python3.7/site-packages/tensorflow/python/keras/layers/core.py:143: calling dropout (from tensorflow.python.ops.nn_ops) with keep_prob is deprecated and will be removed in a future version.\n",
      "Instructions for updating:\n",
      "Please use `rate` instead of `keep_prob`. Rate should be set to `rate = 1 - keep_prob`.\n"
     ]
    }
   ],
   "source": [
    "sequence_input = Input(shape=(MAX_SEQUENCE_LENGTH,), dtype='int32')\n",
    "embedded_sequences = embedding_layer(sequence_input)\n",
    "x = Bidirectional(LSTM(256))(embedded_sequences)\n",
    "y = Dropout(0.5)(x)\n",
    "\n",
    "preds = Dense(labels.shape[1], activation='softmax')(y)\n",
    "model = Model(sequence_input, preds)\n"
   ]
  },
  {
   "cell_type": "code",
   "execution_count": 21,
   "metadata": {},
   "outputs": [
    {
     "name": "stdout",
     "output_type": "stream",
     "text": [
      "_________________________________________________________________\n",
      "Layer (type)                 Output Shape              Param #   \n",
      "=================================================================\n",
      "input_1 (InputLayer)         (None, 117)               0         \n",
      "_________________________________________________________________\n",
      "embedding (Embedding)        (None, 117, 100)          6709500   \n",
      "_________________________________________________________________\n",
      "bidirectional (Bidirectional (None, 512)               731136    \n",
      "_________________________________________________________________\n",
      "dropout (Dropout)            (None, 512)               0         \n",
      "_________________________________________________________________\n",
      "dense (Dense)                (None, 6)                 3078      \n",
      "=================================================================\n",
      "Total params: 7,443,714\n",
      "Trainable params: 734,214\n",
      "Non-trainable params: 6,709,500\n",
      "_________________________________________________________________\n"
     ]
    }
   ],
   "source": [
    "model.summary()"
   ]
  },
  {
   "cell_type": "code",
   "execution_count": 22,
   "metadata": {},
   "outputs": [],
   "source": [
    "model.compile(loss='categorical_crossentropy',\n",
    "              optimizer='rmsprop',\n",
    "              metrics=['acc'])"
   ]
  },
  {
   "cell_type": "markdown",
   "metadata": {},
   "source": [
    "## Training the model"
   ]
  },
  {
   "cell_type": "code",
   "execution_count": 23,
   "metadata": {},
   "outputs": [
    {
     "name": "stdout",
     "output_type": "stream",
     "text": [
      "Train on 20606 samples, validate on 5152 samples\n",
      "WARNING:tensorflow:From /opt/anaconda/lib/python3.7/site-packages/tensorflow/python/ops/math_ops.py:3066: to_int32 (from tensorflow.python.ops.math_ops) is deprecated and will be removed in a future version.\n",
      "Instructions for updating:\n",
      "Use tf.cast instead.\n",
      "Epoch 1/50\n",
      "\n",
      "Epoch 00001: val_acc improved from -inf to 0.93109, saving model to best_weights.hdf5\n",
      " - 193s - loss: 0.6475 - acc: 0.7846 - val_loss: 0.2567 - val_acc: 0.9311\n",
      "Epoch 2/50\n",
      "\n",
      "Epoch 00002: val_acc improved from 0.93109 to 0.97186, saving model to best_weights.hdf5\n",
      " - 193s - loss: 0.1517 - acc: 0.9600 - val_loss: 0.1042 - val_acc: 0.9719\n",
      "Epoch 3/50\n",
      "\n",
      "Epoch 00003: val_acc did not improve from 0.97186\n",
      " - 191s - loss: 0.1092 - acc: 0.9697 - val_loss: 0.0961 - val_acc: 0.9705\n",
      "Epoch 4/50\n",
      "\n",
      "Epoch 00004: val_acc improved from 0.97186 to 0.97651, saving model to best_weights.hdf5\n",
      " - 192s - loss: 0.1118 - acc: 0.9709 - val_loss: 0.0812 - val_acc: 0.9765\n",
      "Epoch 5/50\n",
      "\n",
      "Epoch 00005: val_acc did not improve from 0.97651\n",
      " - 191s - loss: 0.0832 - acc: 0.9765 - val_loss: 0.1011 - val_acc: 0.9742\n",
      "Epoch 6/50\n",
      "\n",
      "Epoch 00006: val_acc did not improve from 0.97651\n",
      " - 190s - loss: 0.0735 - acc: 0.9783 - val_loss: 0.0879 - val_acc: 0.9746\n",
      "Epoch 7/50\n",
      "\n",
      "Epoch 00007: val_acc did not improve from 0.97651\n",
      " - 190s - loss: 0.0666 - acc: 0.9804 - val_loss: 0.0811 - val_acc: 0.9728\n",
      "Epoch 8/50\n",
      "\n",
      "Epoch 00008: val_acc did not improve from 0.97651\n",
      " - 189s - loss: 0.0579 - acc: 0.9826 - val_loss: 0.0847 - val_acc: 0.9759\n",
      "Epoch 9/50\n",
      "\n",
      "Epoch 00009: val_acc improved from 0.97651 to 0.97710, saving model to best_weights.hdf5\n",
      " - 193s - loss: 0.0525 - acc: 0.9845 - val_loss: 0.0942 - val_acc: 0.9771\n",
      "Epoch 10/50\n",
      "\n",
      "Epoch 00010: val_acc did not improve from 0.97710\n",
      " - 189s - loss: 0.0455 - acc: 0.9872 - val_loss: 0.1170 - val_acc: 0.9744\n",
      "Epoch 11/50\n",
      "\n",
      "Epoch 00011: val_acc did not improve from 0.97710\n",
      " - 190s - loss: 0.0430 - acc: 0.9884 - val_loss: 0.1036 - val_acc: 0.9761\n",
      "Epoch 12/50\n",
      "\n",
      "Epoch 00012: val_acc did not improve from 0.97710\n",
      " - 192s - loss: 0.0322 - acc: 0.9915 - val_loss: 0.1079 - val_acc: 0.9759\n",
      "Epoch 13/50\n",
      "\n",
      "Epoch 00013: val_acc did not improve from 0.97710\n",
      " - 189s - loss: 0.0256 - acc: 0.9924 - val_loss: 0.1145 - val_acc: 0.9771\n",
      "Epoch 14/50\n",
      "\n",
      "Epoch 00014: val_acc did not improve from 0.97710\n",
      " - 188s - loss: 0.0245 - acc: 0.9926 - val_loss: 0.1276 - val_acc: 0.9750\n",
      "Epoch 15/50\n",
      "\n",
      "Epoch 00015: val_acc did not improve from 0.97710\n",
      " - 189s - loss: 0.0201 - acc: 0.9942 - val_loss: 0.1459 - val_acc: 0.9748\n",
      "Epoch 16/50\n",
      "\n",
      "Epoch 00016: val_acc did not improve from 0.97710\n",
      " - 188s - loss: 0.0834 - acc: 0.9859 - val_loss: 0.1369 - val_acc: 0.9744\n",
      "Epoch 17/50\n",
      "\n",
      "Epoch 00017: val_acc did not improve from 0.97710\n",
      " - 189s - loss: 0.0152 - acc: 0.9955 - val_loss: 0.1466 - val_acc: 0.9759\n",
      "Epoch 18/50\n",
      "\n",
      "Epoch 00018: val_acc did not improve from 0.97710\n",
      " - 189s - loss: 0.0138 - acc: 0.9961 - val_loss: 0.1523 - val_acc: 0.9755\n",
      "Epoch 19/50\n",
      "\n",
      "Epoch 00019: val_acc did not improve from 0.97710\n",
      " - 190s - loss: 0.0159 - acc: 0.9959 - val_loss: 0.1523 - val_acc: 0.9752\n",
      "Epoch 20/50\n",
      "\n",
      "Epoch 00020: val_acc did not improve from 0.97710\n",
      " - 191s - loss: 0.0125 - acc: 0.9967 - val_loss: 0.1728 - val_acc: 0.9730\n",
      "Epoch 21/50\n",
      "\n",
      "Epoch 00021: val_acc did not improve from 0.97710\n",
      " - 191s - loss: 0.0112 - acc: 0.9968 - val_loss: 0.1787 - val_acc: 0.9738\n",
      "Epoch 22/50\n",
      "\n",
      "Epoch 00022: val_acc did not improve from 0.97710\n",
      " - 190s - loss: 0.0094 - acc: 0.9970 - val_loss: 0.1727 - val_acc: 0.9753\n",
      "Epoch 23/50\n",
      "\n",
      "Epoch 00023: val_acc did not improve from 0.97710\n",
      " - 191s - loss: 0.0118 - acc: 0.9970 - val_loss: 0.1729 - val_acc: 0.9755\n",
      "Epoch 24/50\n",
      "\n",
      "Epoch 00024: val_acc did not improve from 0.97710\n",
      " - 192s - loss: 0.0096 - acc: 0.9978 - val_loss: 0.1869 - val_acc: 0.9767\n",
      "Epoch 25/50\n",
      "\n",
      "Epoch 00025: val_acc did not improve from 0.97710\n",
      " - 191s - loss: 0.0119 - acc: 0.9973 - val_loss: 0.1867 - val_acc: 0.9750\n",
      "Epoch 26/50\n",
      "\n",
      "Epoch 00026: val_acc did not improve from 0.97710\n",
      " - 191s - loss: 0.0074 - acc: 0.9978 - val_loss: 0.1818 - val_acc: 0.9759\n",
      "Epoch 27/50\n",
      "\n",
      "Epoch 00027: val_acc did not improve from 0.97710\n",
      " - 191s - loss: 0.0060 - acc: 0.9985 - val_loss: 0.2048 - val_acc: 0.9765\n",
      "Epoch 28/50\n",
      "\n",
      "Epoch 00028: val_acc did not improve from 0.97710\n",
      " - 190s - loss: 0.0080 - acc: 0.9977 - val_loss: 0.2016 - val_acc: 0.9728\n",
      "Epoch 29/50\n",
      "\n",
      "Epoch 00029: val_acc did not improve from 0.97710\n",
      " - 190s - loss: 0.0079 - acc: 0.9981 - val_loss: 0.2010 - val_acc: 0.9750\n",
      "Epoch 30/50\n",
      "\n",
      "Epoch 00030: val_acc did not improve from 0.97710\n",
      " - 190s - loss: 0.0076 - acc: 0.9985 - val_loss: 0.2037 - val_acc: 0.9750\n",
      "Epoch 31/50\n",
      "\n",
      "Epoch 00031: val_acc did not improve from 0.97710\n",
      " - 191s - loss: 0.0093 - acc: 0.9977 - val_loss: 0.2089 - val_acc: 0.9761\n",
      "DONE\n"
     ]
    }
   ],
   "source": [
    "from tensorflow.keras.callbacks import EarlyStopping, ModelCheckpoint\n",
    "\n",
    "checkpoint = ModelCheckpoint(\"best_weights.hdf5\", monitor='val_acc', verbose=1, save_best_only=True, mode='max')\n",
    "earlystopping = EarlyStopping(patience=4, monitor='acc')\n",
    "callbacks = [earlystopping, checkpoint]\n",
    "\n",
    "model.fit(x_train, y_train,\n",
    "          batch_size=32,\n",
    "          epochs=50,\n",
    "          validation_data=(x_val, y_val),\n",
    "          callbacks=callbacks,\n",
    "          verbose=2)\n",
    "\n",
    "model.load_weights(\"best_weights.hdf5\")\n",
    "\n",
    "print(\"DONE\")"
   ]
  },
  {
   "cell_type": "markdown",
   "metadata": {},
   "source": [
    "## Making predictions with the model\n",
    "\n",
    "Our model is now trained! We have come to the exciting part where we try to make predictions with our model and see how well it predicts whether a tweet sounds happy or sad. Give it a try with your own input!"
   ]
  },
  {
   "cell_type": "code",
   "execution_count": 24,
   "metadata": {},
   "outputs": [],
   "source": [
    "def predict_tweet(text_to_predict):\n",
    "    test_sequence = tokenizer.texts_to_sequences([text_to_predict])\n",
    "    test_data = pad_sequences(test_sequence, maxlen=MAX_SEQUENCE_LENGTH)\n",
    "    predictions = model.predict(test_data)\n",
    "    prediction = np.argmax(predictions)\n",
    "    print(\"The person who tweeted this is {}\\n\".format(classes_index[prediction]))\n",
    "    ranking = predictions.argsort()[-6:][::-1]\n",
    "    for i in reversed(range(0, 6)):\n",
    "        rank = ranking[0][i]\n",
    "        print(\"{:>10} : {:.5f}%\".format(classes_index[rank], predictions[0][rank]*100))"
   ]
  },
  {
   "cell_type": "code",
   "execution_count": 25,
   "metadata": {},
   "outputs": [
    {
     "name": "stdout",
     "output_type": "stream",
     "text": [
      "The person who tweeted this is suicidal\n",
      "\n",
      "  suicidal : 63.40141%\n",
      " depressed : 18.13954%\n",
      "  cheerful : 6.18711%\n",
      "       sad : 6.14780%\n",
      "     happy : 5.57230%\n",
      " overjoyed : 0.55182%\n"
     ]
    }
   ],
   "source": [
    "predict_tweet(\"If I just disappear from the world right now, will anyone even care?\")"
   ]
  },
  {
   "cell_type": "code",
   "execution_count": 27,
   "metadata": {},
   "outputs": [
    {
     "name": "stdout",
     "output_type": "stream",
     "text": [
      "The person who tweeted this is depressed\n",
      "\n",
      " depressed : 50.97240%\n",
      "  suicidal : 47.91130%\n",
      "  cheerful : 0.52024%\n",
      "       sad : 0.37566%\n",
      "     happy : 0.12476%\n",
      " overjoyed : 0.09564%\n"
     ]
    }
   ],
   "source": [
    "predict_tweet(\"Nobody can understand the stress and anxiety that exists within me right now. Nobody cares.\")"
   ]
  },
  {
   "cell_type": "code",
   "execution_count": 34,
   "metadata": {},
   "outputs": [
    {
     "name": "stdout",
     "output_type": "stream",
     "text": [
      "The person who tweeted this is sad\n",
      "\n",
      "       sad : 45.75953%\n",
      "     happy : 30.72130%\n",
      " overjoyed : 15.37705%\n",
      "  cheerful : 7.13586%\n",
      " depressed : 0.59173%\n",
      "  suicidal : 0.41452%\n"
     ]
    }
   ],
   "source": [
    "predict_tweet(\"When I'm training my neural network, I can't watch netflix because it lags like crazy. Sigh\")"
   ]
  },
  {
   "cell_type": "code",
   "execution_count": 35,
   "metadata": {},
   "outputs": [
    {
     "name": "stdout",
     "output_type": "stream",
     "text": [
      "The person who tweeted this is happy\n",
      "\n",
      "     happy : 49.70885%\n",
      "  cheerful : 21.92664%\n",
      "  suicidal : 19.15106%\n",
      "       sad : 4.73569%\n",
      " depressed : 3.61531%\n",
      " overjoyed : 0.86246%\n"
     ]
    }
   ],
   "source": [
    "predict_tweet(\"Today seems like a fine day. I can't wait to go to school today.\")"
   ]
  },
  {
   "cell_type": "code",
   "execution_count": 36,
   "metadata": {},
   "outputs": [
    {
     "name": "stdout",
     "output_type": "stream",
     "text": [
      "The person who tweeted this is cheerful\n",
      "\n",
      "  cheerful : 73.66031%\n",
      "     happy : 16.02193%\n",
      "       sad : 4.32910%\n",
      " depressed : 3.08085%\n",
      "  suicidal : 1.86836%\n",
      " overjoyed : 1.03945%\n"
     ]
    }
   ],
   "source": [
    "predict_tweet(\"Wow your scrambled eggs are delicious!\")"
   ]
  },
  {
   "cell_type": "code",
   "execution_count": 37,
   "metadata": {},
   "outputs": [
    {
     "name": "stdout",
     "output_type": "stream",
     "text": [
      "The person who tweeted this is overjoyed\n",
      "\n",
      " overjoyed : 44.64616%\n",
      "  suicidal : 29.85086%\n",
      "     happy : 9.41580%\n",
      "  cheerful : 7.27963%\n",
      " depressed : 4.47687%\n",
      "       sad : 4.33067%\n"
     ]
    }
   ],
   "source": [
    "predict_tweet(\"I am so excited for Avengers Endgame actually\")"
   ]
  },
  {
   "cell_type": "code",
   "execution_count": 38,
   "metadata": {},
   "outputs": [],
   "source": [
    "model.save(\"mood_detection_model.h5\")"
   ]
  },
  {
   "cell_type": "code",
   "execution_count": null,
   "metadata": {},
   "outputs": [],
   "source": []
  }
 ],
 "metadata": {
  "kernelspec": {
   "display_name": "Python 3",
   "language": "python",
   "name": "python3"
  },
  "language_info": {
   "codemirror_mode": {
    "name": "ipython",
    "version": 3
   },
   "file_extension": ".py",
   "mimetype": "text/x-python",
   "name": "python",
   "nbconvert_exporter": "python",
   "pygments_lexer": "ipython3",
   "version": "3.7.2"
  }
 },
 "nbformat": 4,
 "nbformat_minor": 2
}
